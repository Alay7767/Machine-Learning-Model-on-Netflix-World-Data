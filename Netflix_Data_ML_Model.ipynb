{
  "nbformat": 4,
  "nbformat_minor": 0,
  "metadata": {
    "colab": {
      "provenance": []
    },
    "kernelspec": {
      "name": "python3",
      "display_name": "Python 3"
    },
    "language_info": {
      "name": "python"
    }
  },
  "cells": [
    {
      "cell_type": "code",
      "execution_count": 1,
      "metadata": {
        "id": "NMR7MVfmx62W"
      },
      "outputs": [],
      "source": [
        "import pandas as pd\n",
        "import numpy as np\n",
        "import matplotlib.pyplot as plt\n",
        "import seaborn as sns\n",
        "from sklearn.model_selection import train_test_split\n",
        "from sklearn.preprocessing import LabelEncoder, StandardScaler\n",
        "from sklearn.ensemble import RandomForestClassifier\n",
        "from sklearn.linear_model import LogisticRegression\n",
        "from sklearn.metrics import classification_report, confusion_matrix, accuracy_score\n",
        "import warnings\n",
        "warnings.filterwarnings('ignore')"
      ]
    },
    {
      "cell_type": "code",
      "source": [
        "plt.style.use('default')\n",
        "sns.set_palette(\"husl\")"
      ],
      "metadata": {
        "id": "fADFeFs7x_27"
      },
      "execution_count": 2,
      "outputs": []
    },
    {
      "cell_type": "code",
      "source": [
        "print(\"=\" * 60)\n",
        "print(\"NETFLIX WORLD DATA ANALYSIS & ML MODEL - OUTPUTS\")\n",
        "print(\"=\" * 60)"
      ],
      "metadata": {
        "colab": {
          "base_uri": "https://localhost:8080/"
        },
        "id": "0jpyJLObyLnN",
        "outputId": "fe886edc-7a36-4d16-8ee7-bdfdc6bf6b0f"
      },
      "execution_count": 3,
      "outputs": [
        {
          "output_type": "stream",
          "name": "stdout",
          "text": [
            "============================================================\n",
            "NETFLIX WORLD DATA ANALYSIS & ML MODEL - OUTPUTS\n",
            "============================================================\n"
          ]
        }
      ]
    },
    {
      "cell_type": "code",
      "source": [
        "np.random.seed(42)\n",
        "n_samples = 10000"
      ],
      "metadata": {
        "id": "o13Jry83yPJJ"
      },
      "execution_count": 4,
      "outputs": []
    },
    {
      "cell_type": "code",
      "source": [
        "countries = ['United States', 'India', 'United Kingdom', 'Canada', 'Australia',\n",
        "            'Germany', 'France', 'Japan', 'Brazil', 'Mexico', 'South Korea',\n",
        "            'Spain', 'Italy', 'Netherlands', 'Turkey']\n",
        "country_weights = [0.35, 0.15, 0.08, 0.06, 0.05, 0.04, 0.04, 0.04, 0.03,\n",
        "                  0.03, 0.03, 0.03, 0.02, 0.02, 0.03]  # Fixed to sum to 1.0\n",
        "\n",
        "data = {\n",
        "    'show_id': [f'show_{i:05d}' for i in range(n_samples)],\n",
        "    'type': np.random.choice(['Movie', 'TV Show'], n_samples, p=[0.7, 0.3]),\n",
        "    'title': [f'Title_{i}' for i in range(n_samples)],\n",
        "    'country': np.random.choice(countries, n_samples, p=country_weights),\n",
        "    'date_added': pd.date_range('2015-01-01', '2024-12-31', periods=n_samples),\n",
        "    'release_year': np.random.choice(range(1990, 2025), n_samples),\n",
        "    'rating': np.random.choice(['G', 'PG', 'PG-13', 'R', 'NC-17', 'TV-Y', 'TV-Y7',\n",
        "                              'TV-G', 'TV-PG', 'TV-14', 'TV-MA'], n_samples),\n",
        "    'duration': np.random.choice(range(80, 180), n_samples),\n",
        "    'listed_in': np.random.choice(['Action', 'Comedy', 'Drama', 'Horror', 'Romance',\n",
        "                                 'Sci-Fi', 'Documentary', 'Animation', 'Thriller'], n_samples),\n",
        "    'imdb_score': np.random.normal(6.5, 1.5, n_samples).clip(1, 10),\n",
        "    'user_rating': np.random.normal(7.0, 1.2, n_samples).clip(1, 10),\n",
        "    'views_millions': np.random.exponential(5, n_samples),\n",
        "    'is_popular': np.random.choice([0, 1], n_samples, p=[0.7, 0.3])\n",
        "}"
      ],
      "metadata": {
        "id": "or94d896yTG2"
      },
      "execution_count": 6,
      "outputs": []
    },
    {
      "cell_type": "code",
      "source": [
        "tv_mask = data['type'] == 'TV Show'\n",
        "data['duration'] = np.where(tv_mask,\n",
        "                           np.random.choice(range(1, 10), n_samples),\n",
        "                           data['duration'])\n",
        "\n",
        "df = pd.DataFrame(data)"
      ],
      "metadata": {
        "id": "qxMf8i31yWRJ"
      },
      "execution_count": 7,
      "outputs": []
    },
    {
      "cell_type": "code",
      "source": [
        "df"
      ],
      "metadata": {
        "colab": {
          "base_uri": "https://localhost:8080/",
          "height": 423
        },
        "id": "ais4rLtrysTg",
        "outputId": "a1587945-0455-47c9-b489-05892861e8fa"
      },
      "execution_count": 8,
      "outputs": [
        {
          "output_type": "execute_result",
          "data": {
            "text/plain": [
              "         show_id     type       title        country  \\\n",
              "0     show_00000    Movie     Title_0        Germany   \n",
              "1     show_00001    Movie     Title_1  United States   \n",
              "2     show_00002    Movie     Title_2  United States   \n",
              "3     show_00003    Movie     Title_3      Australia   \n",
              "4     show_00004    Movie     Title_4          India   \n",
              "...          ...      ...         ...            ...   \n",
              "9995  show_09995  TV Show  Title_9995    Netherlands   \n",
              "9996  show_09996    Movie  Title_9996         France   \n",
              "9997  show_09997    Movie  Title_9997  United States   \n",
              "9998  show_09998    Movie  Title_9998          India   \n",
              "9999  show_09999    Movie  Title_9999  United States   \n",
              "\n",
              "                        date_added  release_year rating  duration  \\\n",
              "0    2015-01-01 00:00:00.000000000          2002  TV-14       134   \n",
              "1    2015-01-01 08:45:56.435643564          2016   TV-G       171   \n",
              "2    2015-01-01 17:31:52.871287128          2022  TV-MA       108   \n",
              "3    2015-01-02 02:17:49.306930693          1995  TV-MA       133   \n",
              "4    2015-01-02 11:03:45.742574257          2002  TV-MA       150   \n",
              "...                            ...           ...    ...       ...   \n",
              "9995 2024-12-29 12:56:14.257425728          1998  TV-MA         6   \n",
              "9996 2024-12-29 21:42:10.693069312          1994   TV-Y       149   \n",
              "9997 2024-12-30 06:28:07.128712832          1996      G       172   \n",
              "9998 2024-12-30 15:14:03.564356416          2020  TV-14       118   \n",
              "9999 2024-12-31 00:00:00.000000000          1993  PG-13       122   \n",
              "\n",
              "        listed_in  imdb_score  user_rating  views_millions  is_popular  \n",
              "0     Documentary    7.655679     8.406447        8.121541           0  \n",
              "1          Action    5.821353     6.798423       14.096803           0  \n",
              "2         Romance    4.940603     8.486576        4.115762           1  \n",
              "3           Drama    8.565534     6.578397        0.370712           0  \n",
              "4          Action    6.689471     7.760458        6.220839           1  \n",
              "...           ...         ...          ...             ...         ...  \n",
              "9995      Romance    5.729049     9.120320        9.838570           0  \n",
              "9996       Horror    7.051864     5.777154        3.729677           0  \n",
              "9997     Thriller    7.381074     8.514620        9.629951           0  \n",
              "9998    Animation    9.692275     5.615980        2.324737           1  \n",
              "9999       Horror    5.794207     7.991973        0.537356           0  \n",
              "\n",
              "[10000 rows x 13 columns]"
            ],
            "text/html": [
              "\n",
              "  <div id=\"df-ebb1dec1-ee1c-4bdb-8d13-7848a8e70a85\" class=\"colab-df-container\">\n",
              "    <div>\n",
              "<style scoped>\n",
              "    .dataframe tbody tr th:only-of-type {\n",
              "        vertical-align: middle;\n",
              "    }\n",
              "\n",
              "    .dataframe tbody tr th {\n",
              "        vertical-align: top;\n",
              "    }\n",
              "\n",
              "    .dataframe thead th {\n",
              "        text-align: right;\n",
              "    }\n",
              "</style>\n",
              "<table border=\"1\" class=\"dataframe\">\n",
              "  <thead>\n",
              "    <tr style=\"text-align: right;\">\n",
              "      <th></th>\n",
              "      <th>show_id</th>\n",
              "      <th>type</th>\n",
              "      <th>title</th>\n",
              "      <th>country</th>\n",
              "      <th>date_added</th>\n",
              "      <th>release_year</th>\n",
              "      <th>rating</th>\n",
              "      <th>duration</th>\n",
              "      <th>listed_in</th>\n",
              "      <th>imdb_score</th>\n",
              "      <th>user_rating</th>\n",
              "      <th>views_millions</th>\n",
              "      <th>is_popular</th>\n",
              "    </tr>\n",
              "  </thead>\n",
              "  <tbody>\n",
              "    <tr>\n",
              "      <th>0</th>\n",
              "      <td>show_00000</td>\n",
              "      <td>Movie</td>\n",
              "      <td>Title_0</td>\n",
              "      <td>Germany</td>\n",
              "      <td>2015-01-01 00:00:00.000000000</td>\n",
              "      <td>2002</td>\n",
              "      <td>TV-14</td>\n",
              "      <td>134</td>\n",
              "      <td>Documentary</td>\n",
              "      <td>7.655679</td>\n",
              "      <td>8.406447</td>\n",
              "      <td>8.121541</td>\n",
              "      <td>0</td>\n",
              "    </tr>\n",
              "    <tr>\n",
              "      <th>1</th>\n",
              "      <td>show_00001</td>\n",
              "      <td>Movie</td>\n",
              "      <td>Title_1</td>\n",
              "      <td>United States</td>\n",
              "      <td>2015-01-01 08:45:56.435643564</td>\n",
              "      <td>2016</td>\n",
              "      <td>TV-G</td>\n",
              "      <td>171</td>\n",
              "      <td>Action</td>\n",
              "      <td>5.821353</td>\n",
              "      <td>6.798423</td>\n",
              "      <td>14.096803</td>\n",
              "      <td>0</td>\n",
              "    </tr>\n",
              "    <tr>\n",
              "      <th>2</th>\n",
              "      <td>show_00002</td>\n",
              "      <td>Movie</td>\n",
              "      <td>Title_2</td>\n",
              "      <td>United States</td>\n",
              "      <td>2015-01-01 17:31:52.871287128</td>\n",
              "      <td>2022</td>\n",
              "      <td>TV-MA</td>\n",
              "      <td>108</td>\n",
              "      <td>Romance</td>\n",
              "      <td>4.940603</td>\n",
              "      <td>8.486576</td>\n",
              "      <td>4.115762</td>\n",
              "      <td>1</td>\n",
              "    </tr>\n",
              "    <tr>\n",
              "      <th>3</th>\n",
              "      <td>show_00003</td>\n",
              "      <td>Movie</td>\n",
              "      <td>Title_3</td>\n",
              "      <td>Australia</td>\n",
              "      <td>2015-01-02 02:17:49.306930693</td>\n",
              "      <td>1995</td>\n",
              "      <td>TV-MA</td>\n",
              "      <td>133</td>\n",
              "      <td>Drama</td>\n",
              "      <td>8.565534</td>\n",
              "      <td>6.578397</td>\n",
              "      <td>0.370712</td>\n",
              "      <td>0</td>\n",
              "    </tr>\n",
              "    <tr>\n",
              "      <th>4</th>\n",
              "      <td>show_00004</td>\n",
              "      <td>Movie</td>\n",
              "      <td>Title_4</td>\n",
              "      <td>India</td>\n",
              "      <td>2015-01-02 11:03:45.742574257</td>\n",
              "      <td>2002</td>\n",
              "      <td>TV-MA</td>\n",
              "      <td>150</td>\n",
              "      <td>Action</td>\n",
              "      <td>6.689471</td>\n",
              "      <td>7.760458</td>\n",
              "      <td>6.220839</td>\n",
              "      <td>1</td>\n",
              "    </tr>\n",
              "    <tr>\n",
              "      <th>...</th>\n",
              "      <td>...</td>\n",
              "      <td>...</td>\n",
              "      <td>...</td>\n",
              "      <td>...</td>\n",
              "      <td>...</td>\n",
              "      <td>...</td>\n",
              "      <td>...</td>\n",
              "      <td>...</td>\n",
              "      <td>...</td>\n",
              "      <td>...</td>\n",
              "      <td>...</td>\n",
              "      <td>...</td>\n",
              "      <td>...</td>\n",
              "    </tr>\n",
              "    <tr>\n",
              "      <th>9995</th>\n",
              "      <td>show_09995</td>\n",
              "      <td>TV Show</td>\n",
              "      <td>Title_9995</td>\n",
              "      <td>Netherlands</td>\n",
              "      <td>2024-12-29 12:56:14.257425728</td>\n",
              "      <td>1998</td>\n",
              "      <td>TV-MA</td>\n",
              "      <td>6</td>\n",
              "      <td>Romance</td>\n",
              "      <td>5.729049</td>\n",
              "      <td>9.120320</td>\n",
              "      <td>9.838570</td>\n",
              "      <td>0</td>\n",
              "    </tr>\n",
              "    <tr>\n",
              "      <th>9996</th>\n",
              "      <td>show_09996</td>\n",
              "      <td>Movie</td>\n",
              "      <td>Title_9996</td>\n",
              "      <td>France</td>\n",
              "      <td>2024-12-29 21:42:10.693069312</td>\n",
              "      <td>1994</td>\n",
              "      <td>TV-Y</td>\n",
              "      <td>149</td>\n",
              "      <td>Horror</td>\n",
              "      <td>7.051864</td>\n",
              "      <td>5.777154</td>\n",
              "      <td>3.729677</td>\n",
              "      <td>0</td>\n",
              "    </tr>\n",
              "    <tr>\n",
              "      <th>9997</th>\n",
              "      <td>show_09997</td>\n",
              "      <td>Movie</td>\n",
              "      <td>Title_9997</td>\n",
              "      <td>United States</td>\n",
              "      <td>2024-12-30 06:28:07.128712832</td>\n",
              "      <td>1996</td>\n",
              "      <td>G</td>\n",
              "      <td>172</td>\n",
              "      <td>Thriller</td>\n",
              "      <td>7.381074</td>\n",
              "      <td>8.514620</td>\n",
              "      <td>9.629951</td>\n",
              "      <td>0</td>\n",
              "    </tr>\n",
              "    <tr>\n",
              "      <th>9998</th>\n",
              "      <td>show_09998</td>\n",
              "      <td>Movie</td>\n",
              "      <td>Title_9998</td>\n",
              "      <td>India</td>\n",
              "      <td>2024-12-30 15:14:03.564356416</td>\n",
              "      <td>2020</td>\n",
              "      <td>TV-14</td>\n",
              "      <td>118</td>\n",
              "      <td>Animation</td>\n",
              "      <td>9.692275</td>\n",
              "      <td>5.615980</td>\n",
              "      <td>2.324737</td>\n",
              "      <td>1</td>\n",
              "    </tr>\n",
              "    <tr>\n",
              "      <th>9999</th>\n",
              "      <td>show_09999</td>\n",
              "      <td>Movie</td>\n",
              "      <td>Title_9999</td>\n",
              "      <td>United States</td>\n",
              "      <td>2024-12-31 00:00:00.000000000</td>\n",
              "      <td>1993</td>\n",
              "      <td>PG-13</td>\n",
              "      <td>122</td>\n",
              "      <td>Horror</td>\n",
              "      <td>5.794207</td>\n",
              "      <td>7.991973</td>\n",
              "      <td>0.537356</td>\n",
              "      <td>0</td>\n",
              "    </tr>\n",
              "  </tbody>\n",
              "</table>\n",
              "<p>10000 rows × 13 columns</p>\n",
              "</div>\n",
              "    <div class=\"colab-df-buttons\">\n",
              "\n",
              "  <div class=\"colab-df-container\">\n",
              "    <button class=\"colab-df-convert\" onclick=\"convertToInteractive('df-ebb1dec1-ee1c-4bdb-8d13-7848a8e70a85')\"\n",
              "            title=\"Convert this dataframe to an interactive table.\"\n",
              "            style=\"display:none;\">\n",
              "\n",
              "  <svg xmlns=\"http://www.w3.org/2000/svg\" height=\"24px\" viewBox=\"0 -960 960 960\">\n",
              "    <path d=\"M120-120v-720h720v720H120Zm60-500h600v-160H180v160Zm220 220h160v-160H400v160Zm0 220h160v-160H400v160ZM180-400h160v-160H180v160Zm440 0h160v-160H620v160ZM180-180h160v-160H180v160Zm440 0h160v-160H620v160Z\"/>\n",
              "  </svg>\n",
              "    </button>\n",
              "\n",
              "  <style>\n",
              "    .colab-df-container {\n",
              "      display:flex;\n",
              "      gap: 12px;\n",
              "    }\n",
              "\n",
              "    .colab-df-convert {\n",
              "      background-color: #E8F0FE;\n",
              "      border: none;\n",
              "      border-radius: 50%;\n",
              "      cursor: pointer;\n",
              "      display: none;\n",
              "      fill: #1967D2;\n",
              "      height: 32px;\n",
              "      padding: 0 0 0 0;\n",
              "      width: 32px;\n",
              "    }\n",
              "\n",
              "    .colab-df-convert:hover {\n",
              "      background-color: #E2EBFA;\n",
              "      box-shadow: 0px 1px 2px rgba(60, 64, 67, 0.3), 0px 1px 3px 1px rgba(60, 64, 67, 0.15);\n",
              "      fill: #174EA6;\n",
              "    }\n",
              "\n",
              "    .colab-df-buttons div {\n",
              "      margin-bottom: 4px;\n",
              "    }\n",
              "\n",
              "    [theme=dark] .colab-df-convert {\n",
              "      background-color: #3B4455;\n",
              "      fill: #D2E3FC;\n",
              "    }\n",
              "\n",
              "    [theme=dark] .colab-df-convert:hover {\n",
              "      background-color: #434B5C;\n",
              "      box-shadow: 0px 1px 3px 1px rgba(0, 0, 0, 0.15);\n",
              "      filter: drop-shadow(0px 1px 2px rgba(0, 0, 0, 0.3));\n",
              "      fill: #FFFFFF;\n",
              "    }\n",
              "  </style>\n",
              "\n",
              "    <script>\n",
              "      const buttonEl =\n",
              "        document.querySelector('#df-ebb1dec1-ee1c-4bdb-8d13-7848a8e70a85 button.colab-df-convert');\n",
              "      buttonEl.style.display =\n",
              "        google.colab.kernel.accessAllowed ? 'block' : 'none';\n",
              "\n",
              "      async function convertToInteractive(key) {\n",
              "        const element = document.querySelector('#df-ebb1dec1-ee1c-4bdb-8d13-7848a8e70a85');\n",
              "        const dataTable =\n",
              "          await google.colab.kernel.invokeFunction('convertToInteractive',\n",
              "                                                    [key], {});\n",
              "        if (!dataTable) return;\n",
              "\n",
              "        const docLinkHtml = 'Like what you see? Visit the ' +\n",
              "          '<a target=\"_blank\" href=https://colab.research.google.com/notebooks/data_table.ipynb>data table notebook</a>'\n",
              "          + ' to learn more about interactive tables.';\n",
              "        element.innerHTML = '';\n",
              "        dataTable['output_type'] = 'display_data';\n",
              "        await google.colab.output.renderOutput(dataTable, element);\n",
              "        const docLink = document.createElement('div');\n",
              "        docLink.innerHTML = docLinkHtml;\n",
              "        element.appendChild(docLink);\n",
              "      }\n",
              "    </script>\n",
              "  </div>\n",
              "\n",
              "\n",
              "    <div id=\"df-0820b46e-2dd9-40f1-8799-66491219fbf0\">\n",
              "      <button class=\"colab-df-quickchart\" onclick=\"quickchart('df-0820b46e-2dd9-40f1-8799-66491219fbf0')\"\n",
              "                title=\"Suggest charts\"\n",
              "                style=\"display:none;\">\n",
              "\n",
              "<svg xmlns=\"http://www.w3.org/2000/svg\" height=\"24px\"viewBox=\"0 0 24 24\"\n",
              "     width=\"24px\">\n",
              "    <g>\n",
              "        <path d=\"M19 3H5c-1.1 0-2 .9-2 2v14c0 1.1.9 2 2 2h14c1.1 0 2-.9 2-2V5c0-1.1-.9-2-2-2zM9 17H7v-7h2v7zm4 0h-2V7h2v10zm4 0h-2v-4h2v4z\"/>\n",
              "    </g>\n",
              "</svg>\n",
              "      </button>\n",
              "\n",
              "<style>\n",
              "  .colab-df-quickchart {\n",
              "      --bg-color: #E8F0FE;\n",
              "      --fill-color: #1967D2;\n",
              "      --hover-bg-color: #E2EBFA;\n",
              "      --hover-fill-color: #174EA6;\n",
              "      --disabled-fill-color: #AAA;\n",
              "      --disabled-bg-color: #DDD;\n",
              "  }\n",
              "\n",
              "  [theme=dark] .colab-df-quickchart {\n",
              "      --bg-color: #3B4455;\n",
              "      --fill-color: #D2E3FC;\n",
              "      --hover-bg-color: #434B5C;\n",
              "      --hover-fill-color: #FFFFFF;\n",
              "      --disabled-bg-color: #3B4455;\n",
              "      --disabled-fill-color: #666;\n",
              "  }\n",
              "\n",
              "  .colab-df-quickchart {\n",
              "    background-color: var(--bg-color);\n",
              "    border: none;\n",
              "    border-radius: 50%;\n",
              "    cursor: pointer;\n",
              "    display: none;\n",
              "    fill: var(--fill-color);\n",
              "    height: 32px;\n",
              "    padding: 0;\n",
              "    width: 32px;\n",
              "  }\n",
              "\n",
              "  .colab-df-quickchart:hover {\n",
              "    background-color: var(--hover-bg-color);\n",
              "    box-shadow: 0 1px 2px rgba(60, 64, 67, 0.3), 0 1px 3px 1px rgba(60, 64, 67, 0.15);\n",
              "    fill: var(--button-hover-fill-color);\n",
              "  }\n",
              "\n",
              "  .colab-df-quickchart-complete:disabled,\n",
              "  .colab-df-quickchart-complete:disabled:hover {\n",
              "    background-color: var(--disabled-bg-color);\n",
              "    fill: var(--disabled-fill-color);\n",
              "    box-shadow: none;\n",
              "  }\n",
              "\n",
              "  .colab-df-spinner {\n",
              "    border: 2px solid var(--fill-color);\n",
              "    border-color: transparent;\n",
              "    border-bottom-color: var(--fill-color);\n",
              "    animation:\n",
              "      spin 1s steps(1) infinite;\n",
              "  }\n",
              "\n",
              "  @keyframes spin {\n",
              "    0% {\n",
              "      border-color: transparent;\n",
              "      border-bottom-color: var(--fill-color);\n",
              "      border-left-color: var(--fill-color);\n",
              "    }\n",
              "    20% {\n",
              "      border-color: transparent;\n",
              "      border-left-color: var(--fill-color);\n",
              "      border-top-color: var(--fill-color);\n",
              "    }\n",
              "    30% {\n",
              "      border-color: transparent;\n",
              "      border-left-color: var(--fill-color);\n",
              "      border-top-color: var(--fill-color);\n",
              "      border-right-color: var(--fill-color);\n",
              "    }\n",
              "    40% {\n",
              "      border-color: transparent;\n",
              "      border-right-color: var(--fill-color);\n",
              "      border-top-color: var(--fill-color);\n",
              "    }\n",
              "    60% {\n",
              "      border-color: transparent;\n",
              "      border-right-color: var(--fill-color);\n",
              "    }\n",
              "    80% {\n",
              "      border-color: transparent;\n",
              "      border-right-color: var(--fill-color);\n",
              "      border-bottom-color: var(--fill-color);\n",
              "    }\n",
              "    90% {\n",
              "      border-color: transparent;\n",
              "      border-bottom-color: var(--fill-color);\n",
              "    }\n",
              "  }\n",
              "</style>\n",
              "\n",
              "      <script>\n",
              "        async function quickchart(key) {\n",
              "          const quickchartButtonEl =\n",
              "            document.querySelector('#' + key + ' button');\n",
              "          quickchartButtonEl.disabled = true;  // To prevent multiple clicks.\n",
              "          quickchartButtonEl.classList.add('colab-df-spinner');\n",
              "          try {\n",
              "            const charts = await google.colab.kernel.invokeFunction(\n",
              "                'suggestCharts', [key], {});\n",
              "          } catch (error) {\n",
              "            console.error('Error during call to suggestCharts:', error);\n",
              "          }\n",
              "          quickchartButtonEl.classList.remove('colab-df-spinner');\n",
              "          quickchartButtonEl.classList.add('colab-df-quickchart-complete');\n",
              "        }\n",
              "        (() => {\n",
              "          let quickchartButtonEl =\n",
              "            document.querySelector('#df-0820b46e-2dd9-40f1-8799-66491219fbf0 button');\n",
              "          quickchartButtonEl.style.display =\n",
              "            google.colab.kernel.accessAllowed ? 'block' : 'none';\n",
              "        })();\n",
              "      </script>\n",
              "    </div>\n",
              "\n",
              "  <div id=\"id_6afb7203-dd59-4bd2-aec2-5f94710809f8\">\n",
              "    <style>\n",
              "      .colab-df-generate {\n",
              "        background-color: #E8F0FE;\n",
              "        border: none;\n",
              "        border-radius: 50%;\n",
              "        cursor: pointer;\n",
              "        display: none;\n",
              "        fill: #1967D2;\n",
              "        height: 32px;\n",
              "        padding: 0 0 0 0;\n",
              "        width: 32px;\n",
              "      }\n",
              "\n",
              "      .colab-df-generate:hover {\n",
              "        background-color: #E2EBFA;\n",
              "        box-shadow: 0px 1px 2px rgba(60, 64, 67, 0.3), 0px 1px 3px 1px rgba(60, 64, 67, 0.15);\n",
              "        fill: #174EA6;\n",
              "      }\n",
              "\n",
              "      [theme=dark] .colab-df-generate {\n",
              "        background-color: #3B4455;\n",
              "        fill: #D2E3FC;\n",
              "      }\n",
              "\n",
              "      [theme=dark] .colab-df-generate:hover {\n",
              "        background-color: #434B5C;\n",
              "        box-shadow: 0px 1px 3px 1px rgba(0, 0, 0, 0.15);\n",
              "        filter: drop-shadow(0px 1px 2px rgba(0, 0, 0, 0.3));\n",
              "        fill: #FFFFFF;\n",
              "      }\n",
              "    </style>\n",
              "    <button class=\"colab-df-generate\" onclick=\"generateWithVariable('df')\"\n",
              "            title=\"Generate code using this dataframe.\"\n",
              "            style=\"display:none;\">\n",
              "\n",
              "  <svg xmlns=\"http://www.w3.org/2000/svg\" height=\"24px\"viewBox=\"0 0 24 24\"\n",
              "       width=\"24px\">\n",
              "    <path d=\"M7,19H8.4L18.45,9,17,7.55,7,17.6ZM5,21V16.75L18.45,3.32a2,2,0,0,1,2.83,0l1.4,1.43a1.91,1.91,0,0,1,.58,1.4,1.91,1.91,0,0,1-.58,1.4L9.25,21ZM18.45,9,17,7.55Zm-12,3A5.31,5.31,0,0,0,4.9,8.1,5.31,5.31,0,0,0,1,6.5,5.31,5.31,0,0,0,4.9,4.9,5.31,5.31,0,0,0,6.5,1,5.31,5.31,0,0,0,8.1,4.9,5.31,5.31,0,0,0,12,6.5,5.46,5.46,0,0,0,6.5,12Z\"/>\n",
              "  </svg>\n",
              "    </button>\n",
              "    <script>\n",
              "      (() => {\n",
              "      const buttonEl =\n",
              "        document.querySelector('#id_6afb7203-dd59-4bd2-aec2-5f94710809f8 button.colab-df-generate');\n",
              "      buttonEl.style.display =\n",
              "        google.colab.kernel.accessAllowed ? 'block' : 'none';\n",
              "\n",
              "      buttonEl.onclick = () => {\n",
              "        google.colab.notebook.generateWithVariable('df');\n",
              "      }\n",
              "      })();\n",
              "    </script>\n",
              "  </div>\n",
              "\n",
              "    </div>\n",
              "  </div>\n"
            ],
            "application/vnd.google.colaboratory.intrinsic+json": {
              "type": "dataframe",
              "variable_name": "df",
              "summary": "{\n  \"name\": \"df\",\n  \"rows\": 10000,\n  \"fields\": [\n    {\n      \"column\": \"show_id\",\n      \"properties\": {\n        \"dtype\": \"string\",\n        \"num_unique_values\": 10000,\n        \"samples\": [\n          \"show_06252\",\n          \"show_04684\",\n          \"show_01731\"\n        ],\n        \"semantic_type\": \"\",\n        \"description\": \"\"\n      }\n    },\n    {\n      \"column\": \"type\",\n      \"properties\": {\n        \"dtype\": \"category\",\n        \"num_unique_values\": 2,\n        \"samples\": [\n          \"TV Show\",\n          \"Movie\"\n        ],\n        \"semantic_type\": \"\",\n        \"description\": \"\"\n      }\n    },\n    {\n      \"column\": \"title\",\n      \"properties\": {\n        \"dtype\": \"string\",\n        \"num_unique_values\": 10000,\n        \"samples\": [\n          \"Title_6252\",\n          \"Title_4684\"\n        ],\n        \"semantic_type\": \"\",\n        \"description\": \"\"\n      }\n    },\n    {\n      \"column\": \"country\",\n      \"properties\": {\n        \"dtype\": \"category\",\n        \"num_unique_values\": 15,\n        \"samples\": [\n          \"United Kingdom\",\n          \"Brazil\"\n        ],\n        \"semantic_type\": \"\",\n        \"description\": \"\"\n      }\n    },\n    {\n      \"column\": \"date_added\",\n      \"properties\": {\n        \"dtype\": \"date\",\n        \"min\": \"2015-01-01 00:00:00\",\n        \"max\": \"2024-12-31 00:00:00\",\n        \"num_unique_values\": 10000,\n        \"samples\": [\n          \"2021-04-02 11:00:35.643564352\",\n          \"2019-09-07 18:25:44.554455456\"\n        ],\n        \"semantic_type\": \"\",\n        \"description\": \"\"\n      }\n    },\n    {\n      \"column\": \"release_year\",\n      \"properties\": {\n        \"dtype\": \"number\",\n        \"std\": 10,\n        \"min\": 1990,\n        \"max\": 2024,\n        \"num_unique_values\": 35,\n        \"samples\": [\n          2013,\n          1999\n        ],\n        \"semantic_type\": \"\",\n        \"description\": \"\"\n      }\n    },\n    {\n      \"column\": \"rating\",\n      \"properties\": {\n        \"dtype\": \"category\",\n        \"num_unique_values\": 11,\n        \"samples\": [\n          \"G\",\n          \"TV-14\"\n        ],\n        \"semantic_type\": \"\",\n        \"description\": \"\"\n      }\n    },\n    {\n      \"column\": \"duration\",\n      \"properties\": {\n        \"dtype\": \"number\",\n        \"std\": 62,\n        \"min\": 1,\n        \"max\": 179,\n        \"num_unique_values\": 109,\n        \"samples\": [\n          153,\n          7\n        ],\n        \"semantic_type\": \"\",\n        \"description\": \"\"\n      }\n    },\n    {\n      \"column\": \"listed_in\",\n      \"properties\": {\n        \"dtype\": \"category\",\n        \"num_unique_values\": 9,\n        \"samples\": [\n          \"Thriller\",\n          \"Action\"\n        ],\n        \"semantic_type\": \"\",\n        \"description\": \"\"\n      }\n    },\n    {\n      \"column\": \"imdb_score\",\n      \"properties\": {\n        \"dtype\": \"number\",\n        \"std\": 1.4936843345513824,\n        \"min\": 1.0934061092307168,\n        \"max\": 10.0,\n        \"num_unique_values\": 9894,\n        \"samples\": [\n          5.639217035498305,\n          3.8849132585635946\n        ],\n        \"semantic_type\": \"\",\n        \"description\": \"\"\n      }\n    },\n    {\n      \"column\": \"user_rating\",\n      \"properties\": {\n        \"dtype\": \"number\",\n        \"std\": 1.1944481515634184,\n        \"min\": 2.467312283548897,\n        \"max\": 10.0,\n        \"num_unique_values\": 9937,\n        \"samples\": [\n          7.936598841849013,\n          6.301801205270591\n        ],\n        \"semantic_type\": \"\",\n        \"description\": \"\"\n      }\n    },\n    {\n      \"column\": \"views_millions\",\n      \"properties\": {\n        \"dtype\": \"number\",\n        \"std\": 4.962579738692695,\n        \"min\": 0.0016557542196944924,\n        \"max\": 46.689719345526335,\n        \"num_unique_values\": 10000,\n        \"samples\": [\n          0.7380150753595491,\n          7.960924665255757\n        ],\n        \"semantic_type\": \"\",\n        \"description\": \"\"\n      }\n    },\n    {\n      \"column\": \"is_popular\",\n      \"properties\": {\n        \"dtype\": \"number\",\n        \"std\": 0,\n        \"min\": 0,\n        \"max\": 1,\n        \"num_unique_values\": 2,\n        \"samples\": [\n          1,\n          0\n        ],\n        \"semantic_type\": \"\",\n        \"description\": \"\"\n      }\n    }\n  ]\n}"
            }
          },
          "metadata": {},
          "execution_count": 8
        }
      ]
    },
    {
      "cell_type": "code",
      "source": [
        "df['content_age'] = 2024 - df['release_year']\n",
        "df['decade'] = (df['release_year'] // 10) * 10\n",
        "df['is_recent'] = (df['release_year'] >= 2015).astype(int)\n",
        "df['year_added'] = df['date_added'].dt.year\n",
        "df['month_added'] = df['date_added'].dt.month"
      ],
      "metadata": {
        "id": "Z_Xc--5myuW3"
      },
      "execution_count": 9,
      "outputs": []
    },
    {
      "cell_type": "code",
      "source": [
        "print(\"\\nDATASET OVERVIEW\")\n",
        "print(\"=\" * 50)\n",
        "print(f\"Dataset Shape: {df.shape}\")\n",
        "print(f\"Total Records: {len(df):,}\")\n",
        "print(f\"Total Features: {df.shape[1]}\")"
      ],
      "metadata": {
        "colab": {
          "base_uri": "https://localhost:8080/"
        },
        "id": "5SQxVNDRyzr7",
        "outputId": "d31cdc85-8317-4020-8dca-5d77bba612a1"
      },
      "execution_count": 30,
      "outputs": [
        {
          "output_type": "stream",
          "name": "stdout",
          "text": [
            "\n",
            "DATASET OVERVIEW\n",
            "==================================================\n",
            "Dataset Shape: (10000, 18)\n",
            "Total Records: 10,000\n",
            "Total Features: 18\n"
          ]
        }
      ]
    },
    {
      "cell_type": "code",
      "source": [
        "print(\"\\nFIRST 5 ROWS:\")\n",
        "print(\"-\" * 50)\n",
        "display_cols = ['title', 'type', 'country', 'release_year', 'rating', 'listed_in', 'imdb_score', 'is_popular']\n",
        "print(df[display_cols].head().to_string())"
      ],
      "metadata": {
        "colab": {
          "base_uri": "https://localhost:8080/"
        },
        "id": "Ia5tsEMhy3XT",
        "outputId": "3db04576-a4a5-4718-b5a5-6f1d8693c3e6"
      },
      "execution_count": 31,
      "outputs": [
        {
          "output_type": "stream",
          "name": "stdout",
          "text": [
            "\n",
            "FIRST 5 ROWS:\n",
            "--------------------------------------------------\n",
            "     title   type        country  release_year rating    listed_in  imdb_score  is_popular\n",
            "0  Title_0  Movie        Germany          2002  TV-14  Documentary    7.655679           0\n",
            "1  Title_1  Movie  United States          2016   TV-G       Action    5.821353           0\n",
            "2  Title_2  Movie  United States          2022  TV-MA      Romance    4.940603           1\n",
            "3  Title_3  Movie      Australia          1995  TV-MA        Drama    8.565534           0\n",
            "4  Title_4  Movie          India          2002  TV-MA       Action    6.689471           1\n"
          ]
        }
      ]
    },
    {
      "cell_type": "code",
      "source": [
        "print(\"\\nBASIC STATISTICS:\")\n",
        "print(\"-\" * 50)\n",
        "numeric_cols = ['release_year', 'duration', 'imdb_score', 'user_rating', 'views_millions']\n",
        "print(df[numeric_cols].describe().round(2).to_string())"
      ],
      "metadata": {
        "colab": {
          "base_uri": "https://localhost:8080/"
        },
        "id": "0LYhye4_y6n2",
        "outputId": "cd1470f7-f515-443a-f460-7b3b06c399a0"
      },
      "execution_count": 32,
      "outputs": [
        {
          "output_type": "stream",
          "name": "stdout",
          "text": [
            "\n",
            "BASIC STATISTICS:\n",
            "--------------------------------------------------\n",
            "       release_year  duration  imdb_score  user_rating  views_millions\n",
            "count      10000.00  10000.00    10000.00     10000.00        10000.00\n",
            "mean        2006.99     91.68        6.48         6.98            4.95\n",
            "std           10.13     62.52        1.49         1.19            4.96\n",
            "min         1990.00      1.00        1.09         2.47            0.00\n",
            "25%         1998.00      8.00        5.48         6.18            1.42\n",
            "50%         2007.00    108.00        6.48         6.97            3.47\n",
            "75%         2016.00    144.00        7.49         7.80            6.82\n",
            "max         2024.00    179.00       10.00        10.00           46.69\n"
          ]
        }
      ]
    },
    {
      "cell_type": "code",
      "source": [
        "print(\"\\nCONTENT TYPE DISTRIBUTION:\")\n",
        "print(\"-\" * 50)\n",
        "type_dist = df['type'].value_counts()\n",
        "for content_type, count in type_dist.items():\n",
        "    percentage = (count / len(df)) * 100\n",
        "    print(f\"{content_type}: {count:,} ({percentage:.1f}%)\")"
      ],
      "metadata": {
        "colab": {
          "base_uri": "https://localhost:8080/"
        },
        "id": "22pNjEPLzB9L",
        "outputId": "1e89a442-93fc-431e-a8d1-8c0037dfef72"
      },
      "execution_count": 33,
      "outputs": [
        {
          "output_type": "stream",
          "name": "stdout",
          "text": [
            "\n",
            "CONTENT TYPE DISTRIBUTION:\n",
            "--------------------------------------------------\n",
            "Movie: 6,928 (69.3%)\n",
            "TV Show: 3,072 (30.7%)\n"
          ]
        }
      ]
    },
    {
      "cell_type": "code",
      "source": [
        "print(\"\\nTOP 10 COUNTRIES BY CONTENT:\")\n",
        "print(\"-\" * 50)\n",
        "country_dist = df['country'].value_counts().head(10)\n",
        "for i, (country, count) in enumerate(country_dist.items(), 1):\n",
        "    percentage = (count / len(df)) * 100\n",
        "    print(f\"{i:2d}. {country:<15}: {count:,} ({percentage:.1f}%)\")"
      ],
      "metadata": {
        "colab": {
          "base_uri": "https://localhost:8080/"
        },
        "id": "0tyc89ABzFFt",
        "outputId": "555f3807-093f-446b-a9c6-d71b903eb6e2"
      },
      "execution_count": 34,
      "outputs": [
        {
          "output_type": "stream",
          "name": "stdout",
          "text": [
            "\n",
            "TOP 10 COUNTRIES BY CONTENT:\n",
            "--------------------------------------------------\n",
            " 1. United States  : 3,491 (34.9%)\n",
            " 2. India          : 1,487 (14.9%)\n",
            " 3. United Kingdom : 795 (8.0%)\n",
            " 4. Canada         : 634 (6.3%)\n",
            " 5. Australia      : 531 (5.3%)\n",
            " 6. Germany        : 421 (4.2%)\n",
            " 7. Japan          : 398 (4.0%)\n",
            " 8. France         : 374 (3.7%)\n",
            " 9. Brazil         : 315 (3.1%)\n",
            "10. Turkey         : 311 (3.1%)\n"
          ]
        }
      ]
    },
    {
      "cell_type": "code",
      "source": [
        "print(\"\\nGENRE DISTRIBUTION:\")\n",
        "print(\"-\" * 50)\n",
        "genre_dist = df['listed_in'].value_counts()\n",
        "for genre, count in genre_dist.items():\n",
        "    percentage = (count / len(df)) * 100\n",
        "    print(f\"{genre:<12}: {count:,} ({percentage:.1f}%)\")"
      ],
      "metadata": {
        "colab": {
          "base_uri": "https://localhost:8080/"
        },
        "id": "HaeELz4bzIxB",
        "outputId": "8cecd8a8-4465-4c6b-ea5c-1ab2431e6643"
      },
      "execution_count": 35,
      "outputs": [
        {
          "output_type": "stream",
          "name": "stdout",
          "text": [
            "\n",
            "GENRE DISTRIBUTION:\n",
            "--------------------------------------------------\n",
            "Horror      : 1,157 (11.6%)\n",
            "Thriller    : 1,145 (11.5%)\n",
            "Animation   : 1,145 (11.5%)\n",
            "Sci-Fi      : 1,120 (11.2%)\n",
            "Documentary : 1,118 (11.2%)\n",
            "Comedy      : 1,108 (11.1%)\n",
            "Romance     : 1,097 (11.0%)\n",
            "Action      : 1,073 (10.7%)\n",
            "Drama       : 1,037 (10.4%)\n"
          ]
        }
      ]
    },
    {
      "cell_type": "code",
      "source": [
        "print(\"\\nRATING DISTRIBUTION:\")\n",
        "print(\"-\" * 50)\n",
        "rating_dist = df['rating'].value_counts()\n",
        "for rating, count in rating_dist.items():\n",
        "    percentage = (count / len(df)) * 100\n",
        "    print(f\"{rating:<6}: {count:,} ({percentage:.1f}%)\")"
      ],
      "metadata": {
        "colab": {
          "base_uri": "https://localhost:8080/"
        },
        "id": "oB6XQVC_zMZB",
        "outputId": "ae8f89c9-8a9c-4e10-9d81-b7968d9710ef"
      },
      "execution_count": 36,
      "outputs": [
        {
          "output_type": "stream",
          "name": "stdout",
          "text": [
            "\n",
            "RATING DISTRIBUTION:\n",
            "--------------------------------------------------\n",
            "TV-Y  : 973 (9.7%)\n",
            "TV-PG : 939 (9.4%)\n",
            "NC-17 : 927 (9.3%)\n",
            "TV-Y7 : 923 (9.2%)\n",
            "PG-13 : 922 (9.2%)\n",
            "TV-G  : 908 (9.1%)\n",
            "TV-14 : 901 (9.0%)\n",
            "PG    : 890 (8.9%)\n",
            "TV-MA : 875 (8.8%)\n",
            "R     : 872 (8.7%)\n",
            "G     : 870 (8.7%)\n"
          ]
        }
      ]
    },
    {
      "cell_type": "code",
      "source": [
        "print(\"\\n\" + \"=\" * 60)\n",
        "print(\"CORRELATION ANALYSIS\")\n",
        "print(\"=\" * 60)"
      ],
      "metadata": {
        "colab": {
          "base_uri": "https://localhost:8080/"
        },
        "id": "THqki6lAzSE9",
        "outputId": "4ed83ea0-f4f4-45fe-b5ce-ede7c131fbf0"
      },
      "execution_count": 37,
      "outputs": [
        {
          "output_type": "stream",
          "name": "stdout",
          "text": [
            "\n",
            "============================================================\n",
            "CORRELATION ANALYSIS\n",
            "============================================================\n"
          ]
        }
      ]
    },
    {
      "cell_type": "code",
      "source": [
        "numerical_cols = ['release_year', 'duration', 'imdb_score', 'user_rating',\n",
        "                 'views_millions', 'content_age', 'is_recent', 'is_popular']"
      ],
      "metadata": {
        "id": "CIiSK3ZzzWll"
      },
      "execution_count": 18,
      "outputs": []
    },
    {
      "cell_type": "code",
      "source": [
        "correlation_matrix = df[numerical_cols].corr()"
      ],
      "metadata": {
        "id": "f49M07EFze3F"
      },
      "execution_count": 19,
      "outputs": []
    },
    {
      "cell_type": "code",
      "source": [
        "print(\"\\n🔗 CORRELATION WITH POPULARITY (is_popular):\")\n",
        "print(\"-\" * 50)\n",
        "popularity_corr = correlation_matrix['is_popular'].sort_values(ascending=False)\n",
        "for feature, corr_value in popularity_corr.items():\n",
        "    if feature != 'is_popular':\n",
        "        strength = \"Strong\" if abs(corr_value) > 0.5 else \"Moderate\" if abs(corr_value) > 0.3 else \"Weak\"\n",
        "        direction = \"Positive\" if corr_value > 0 else \"Negative\"\n",
        "        print(f\"{feature:<15}: {corr_value:>7.3f} ({strength} {direction})\")"
      ],
      "metadata": {
        "colab": {
          "base_uri": "https://localhost:8080/"
        },
        "id": "G4JthAQuzhPo",
        "outputId": "a11e4d70-607c-49ba-9db4-fab7d5717243"
      },
      "execution_count": 20,
      "outputs": [
        {
          "output_type": "stream",
          "name": "stdout",
          "text": [
            "\n",
            "🔗 CORRELATION WITH POPULARITY (is_popular):\n",
            "--------------------------------------------------\n",
            "duration       :   0.010 (Weak Positive)\n",
            "imdb_score     :   0.007 (Weak Positive)\n",
            "content_age    :   0.006 (Weak Positive)\n",
            "release_year   :  -0.006 (Weak Negative)\n",
            "user_rating    :  -0.008 (Weak Negative)\n",
            "is_recent      :  -0.013 (Weak Negative)\n",
            "views_millions :  -0.016 (Weak Negative)\n"
          ]
        }
      ]
    },
    {
      "cell_type": "code",
      "source": [
        "print(\"\\n\" + \"=\" * 60)\n",
        "print(\"MACHINE LEARNING MODEL RESULTS\")\n",
        "print(\"=\" * 60)"
      ],
      "metadata": {
        "colab": {
          "base_uri": "https://localhost:8080/"
        },
        "id": "tO0bDveDzkg9",
        "outputId": "b2a2cea4-c6eb-47f5-a08f-8832ee5e0fbd"
      },
      "execution_count": 38,
      "outputs": [
        {
          "output_type": "stream",
          "name": "stdout",
          "text": [
            "\n",
            "============================================================\n",
            "MACHINE LEARNING MODEL RESULTS\n",
            "============================================================\n"
          ]
        }
      ]
    },
    {
      "cell_type": "code",
      "source": [
        "ml_df = df.copy()"
      ],
      "metadata": {
        "id": "2yE-RTldzoMj"
      },
      "execution_count": 22,
      "outputs": []
    },
    {
      "cell_type": "code",
      "source": [
        "label_encoders = {}\n",
        "categorical_cols = ['type', 'country', 'rating', 'listed_in']\n",
        "\n",
        "for col in categorical_cols:\n",
        "    le = LabelEncoder()\n",
        "    ml_df[f'{col}_encoded'] = le.fit_transform(ml_df[col])\n",
        "    label_encoders[col] = le"
      ],
      "metadata": {
        "id": "htYmn1bazqwt"
      },
      "execution_count": 23,
      "outputs": []
    },
    {
      "cell_type": "code",
      "source": [
        "feature_cols = ['type_encoded', 'country_encoded', 'rating_encoded',\n",
        "                'listed_in_encoded', 'release_year', 'duration',\n",
        "                'imdb_score', 'user_rating', 'views_millions',\n",
        "                'content_age', 'is_recent', 'year_added', 'month_added']\n",
        "\n",
        "X = ml_df[feature_cols]\n",
        "y = ml_df['is_popular']"
      ],
      "metadata": {
        "id": "RFGKbnojztUg"
      },
      "execution_count": 24,
      "outputs": []
    },
    {
      "cell_type": "code",
      "source": [
        "print(f\"\\nDATASET PREPARATION:\")\n",
        "print(f\"Feature Matrix Shape: {X.shape}\")\n",
        "print(f\"Target Vector Shape: {y.shape}\")\n",
        "print(f\"\\nTARGET DISTRIBUTION:\")\n",
        "target_dist = y.value_counts()\n",
        "for target, count in target_dist.items():\n",
        "    label = \"Popular\" if target == 1 else \"Not Popular\"\n",
        "    percentage = (count / len(y)) * 100\n",
        "    print(f\"{label}: {count:,} ({percentage:.1f}%)\")"
      ],
      "metadata": {
        "colab": {
          "base_uri": "https://localhost:8080/"
        },
        "id": "PQXeRJxJzwXH",
        "outputId": "5eeb20cb-3b2a-4126-c5b5-78432e303606"
      },
      "execution_count": 40,
      "outputs": [
        {
          "output_type": "stream",
          "name": "stdout",
          "text": [
            "\n",
            "DATASET PREPARATION:\n",
            "Feature Matrix Shape: (10000, 13)\n",
            "Target Vector Shape: (10000,)\n",
            "\n",
            "TARGET DISTRIBUTION:\n",
            "Not Popular: 7,012 (70.1%)\n",
            "Popular: 2,988 (29.9%)\n"
          ]
        }
      ]
    },
    {
      "cell_type": "code",
      "source": [
        "X_train, X_test, y_train, y_test = train_test_split(X, y, test_size=0.2, random_state=42, stratify=y)"
      ],
      "metadata": {
        "id": "Z8-__-GvzzBT"
      },
      "execution_count": 26,
      "outputs": []
    },
    {
      "cell_type": "code",
      "source": [
        "scaler = StandardScaler()\n",
        "X_train_scaled = scaler.fit_transform(X_train)\n",
        "X_test_scaled = scaler.transform(X_test)"
      ],
      "metadata": {
        "id": "rOeX5Srbz14P"
      },
      "execution_count": 27,
      "outputs": []
    },
    {
      "cell_type": "code",
      "source": [
        "print(f\"\\nTRAIN/TEST SPLIT:\")\n",
        "print(f\"Training Set: {X_train.shape[0]:,} samples\")\n",
        "print(f\"Test Set: {X_test.shape[0]:,} samples\")"
      ],
      "metadata": {
        "colab": {
          "base_uri": "https://localhost:8080/"
        },
        "id": "mpXcowTJz4H1",
        "outputId": "0b268705-e02b-47af-9d1d-2a568f2caa47"
      },
      "execution_count": 29,
      "outputs": [
        {
          "output_type": "stream",
          "name": "stdout",
          "text": [
            "\n",
            "TRAIN/TEST SPLIT:\n",
            "Training Set: 8,000 samples\n",
            "Test Set: 2,000 samples\n"
          ]
        }
      ]
    },
    {
      "cell_type": "code",
      "source": [
        "rf_model = RandomForestClassifier(n_estimators=100, random_state=42, max_depth=10)\n",
        "rf_model.fit(X_train, y_train)\n",
        "rf_pred = rf_model.predict(X_test)\n",
        "rf_accuracy = accuracy_score(y_test, rf_pred)"
      ],
      "metadata": {
        "id": "O4HeMoukz6EL"
      },
      "execution_count": 41,
      "outputs": []
    },
    {
      "cell_type": "code",
      "source": [
        "lr_model = LogisticRegression(random_state=42, max_iter=1000)\n",
        "lr_model.fit(X_train_scaled, y_train)\n",
        "lr_pred = lr_model.predict(X_test_scaled)\n",
        "lr_accuracy = accuracy_score(y_test, lr_pred)"
      ],
      "metadata": {
        "id": "kmvlg4Zu0NR0"
      },
      "execution_count": 42,
      "outputs": []
    },
    {
      "cell_type": "code",
      "source": [
        "print(f\"\\nMODEL PERFORMANCE:\")\n",
        "print(\"-\" * 50)\n",
        "print(f\"Random Forest Accuracy:     {rf_accuracy:.4f} ({rf_accuracy*100:.2f}%)\")\n",
        "print(f\"Logistic Regression Accuracy: {lr_accuracy:.4f} ({lr_accuracy*100:.2f}%)\")"
      ],
      "metadata": {
        "colab": {
          "base_uri": "https://localhost:8080/"
        },
        "id": "shmVPl_T0QpB",
        "outputId": "3407d17a-6216-4cfd-d607-e0327279c5a0"
      },
      "execution_count": 43,
      "outputs": [
        {
          "output_type": "stream",
          "name": "stdout",
          "text": [
            "\n",
            "MODEL PERFORMANCE:\n",
            "--------------------------------------------------\n",
            "Random Forest Accuracy:     0.7010 (70.10%)\n",
            "Logistic Regression Accuracy: 0.7010 (70.10%)\n"
          ]
        }
      ]
    },
    {
      "cell_type": "code",
      "source": [
        "best_model = rf_model if rf_accuracy > lr_accuracy else lr_model\n",
        "best_pred = rf_pred if rf_accuracy > lr_accuracy else lr_pred\n",
        "best_name = \"Random Forest\" if rf_accuracy > lr_accuracy else \"Logistic Regression\""
      ],
      "metadata": {
        "id": "jReDfOVX0c-E"
      },
      "execution_count": 44,
      "outputs": []
    },
    {
      "cell_type": "code",
      "source": [
        "print(f\"\\nBEST MODEL: {best_name}\")\n",
        "print(\"-\" * 50)"
      ],
      "metadata": {
        "colab": {
          "base_uri": "https://localhost:8080/"
        },
        "id": "73tM78iR0f6k",
        "outputId": "6b6fc2a2-50b6-4d8c-98ae-77c4f5adbe2b"
      },
      "execution_count": 45,
      "outputs": [
        {
          "output_type": "stream",
          "name": "stdout",
          "text": [
            "\n",
            "BEST MODEL: Logistic Regression\n",
            "--------------------------------------------------\n"
          ]
        }
      ]
    },
    {
      "cell_type": "code",
      "source": [
        "from sklearn.metrics import precision_recall_fscore_support"
      ],
      "metadata": {
        "id": "6n1dfCto0iOP"
      },
      "execution_count": 46,
      "outputs": []
    },
    {
      "cell_type": "code",
      "source": [
        "precision, recall, f1, support = precision_recall_fscore_support(y_test, best_pred)"
      ],
      "metadata": {
        "id": "_1lEIscZ0mcj"
      },
      "execution_count": 47,
      "outputs": []
    },
    {
      "cell_type": "code",
      "source": [
        "print(\"Detailed Performance Metrics:\")\n",
        "print(f\"{'Class':<12} {'Precision':<10} {'Recall':<10} {'F1-Score':<10} {'Support':<10}\")\n",
        "print(\"-\" * 55)\n",
        "classes = ['Not Popular', 'Popular']\n",
        "for i in range(len(classes)):\n",
        "    print(f\"{classes[i]:<12} {precision[i]:<10.3f} {recall[i]:<10.3f} {f1[i]:<10.3f} {support[i]:<10}\")\n",
        "\n",
        "print(f\"\\nOverall Accuracy: {accuracy_score(y_test, best_pred):.4f}\")"
      ],
      "metadata": {
        "colab": {
          "base_uri": "https://localhost:8080/"
        },
        "id": "QvYdDIAQ0oGP",
        "outputId": "18e9966b-821c-4e05-d884-e997dccae9c7"
      },
      "execution_count": 48,
      "outputs": [
        {
          "output_type": "stream",
          "name": "stdout",
          "text": [
            "Detailed Performance Metrics:\n",
            "Class        Precision  Recall     F1-Score   Support   \n",
            "-------------------------------------------------------\n",
            "Not Popular  0.701      1.000      0.824      1402      \n",
            "Popular      0.000      0.000      0.000      598       \n",
            "\n",
            "Overall Accuracy: 0.7010\n"
          ]
        }
      ]
    },
    {
      "cell_type": "code",
      "source": [
        "print(\"\\n\" + \"=\" * 60)\n",
        "print(\"FEATURE IMPORTANCE ANALYSIS\")\n",
        "print(\"=\" * 60)"
      ],
      "metadata": {
        "colab": {
          "base_uri": "https://localhost:8080/"
        },
        "id": "qkRXYgmg0qMl",
        "outputId": "a4f46343-713d-4045-83c1-f7f6c1bf2e2a"
      },
      "execution_count": 49,
      "outputs": [
        {
          "output_type": "stream",
          "name": "stdout",
          "text": [
            "\n",
            "============================================================\n",
            "FEATURE IMPORTANCE ANALYSIS\n",
            "============================================================\n"
          ]
        }
      ]
    },
    {
      "cell_type": "code",
      "source": [
        "feature_importance = pd.DataFrame({\n",
        "    'feature': feature_cols,\n",
        "    'importance': rf_model.feature_importances_\n",
        "}).sort_values('importance', ascending=False)"
      ],
      "metadata": {
        "id": "OgL__iss0t-H"
      },
      "execution_count": 50,
      "outputs": []
    },
    {
      "cell_type": "code",
      "source": [
        "print(\"\\nTOP 10 MOST IMPORTANT FEATURES:\")\n",
        "print(\"-\" * 50)\n",
        "for i, row in feature_importance.head(10).iterrows():\n",
        "    feature_name = row['feature'].replace('_encoded', '').replace('_', ' ').title()\n",
        "    importance_pct = row['importance'] * 100\n",
        "    print(f\"{i+1:2d}. {feature_name:<20}: {row['importance']:.4f} ({importance_pct:.2f}%)\")"
      ],
      "metadata": {
        "colab": {
          "base_uri": "https://localhost:8080/"
        },
        "id": "KnNVzXGX0xFY",
        "outputId": "d03bc027-d513-4aea-f7d0-279564aa550d"
      },
      "execution_count": 51,
      "outputs": [
        {
          "output_type": "stream",
          "name": "stdout",
          "text": [
            "\n",
            "TOP 10 MOST IMPORTANT FEATURES:\n",
            "--------------------------------------------------\n",
            " 8. User Rating         : 0.1440 (14.40%)\n",
            " 9. Views Millions      : 0.1426 (14.26%)\n",
            " 7. Imdb Score          : 0.1339 (13.39%)\n",
            " 6. Duration            : 0.1092 (10.92%)\n",
            "10. Content Age         : 0.0708 (7.08%)\n",
            " 5. Release Year        : 0.0695 (6.95%)\n",
            "13. Month Added         : 0.0675 (6.75%)\n",
            "12. Year Added          : 0.0663 (6.63%)\n",
            " 3. Rating              : 0.0645 (6.45%)\n",
            " 2. Country             : 0.0585 (5.85%)\n"
          ]
        }
      ]
    },
    {
      "cell_type": "code",
      "source": [
        "print(\"\\n\" + \"=\" * 60)\n",
        "print(\"ODDS RATIO ANALYSIS\")\n",
        "print(\"=\" * 60)"
      ],
      "metadata": {
        "colab": {
          "base_uri": "https://localhost:8080/"
        },
        "id": "2G-5NNEv00ic",
        "outputId": "e237b1fa-835b-48a3-f98a-b8b85a957fc2"
      },
      "execution_count": 52,
      "outputs": [
        {
          "output_type": "stream",
          "name": "stdout",
          "text": [
            "\n",
            "============================================================\n",
            "ODDS RATIO ANALYSIS\n",
            "============================================================\n"
          ]
        }
      ]
    },
    {
      "cell_type": "code",
      "source": [
        "def calculate_odds_ratio(df, feature_col, target_col):\n",
        "    crosstab = pd.crosstab(df[feature_col], df[target_col])\n",
        "    odds_ratios = {}\n",
        "\n",
        "    for category in crosstab.index:\n",
        "        category_popular = crosstab.loc[category, 1] if 1 in crosstab.columns else 0\n",
        "        category_not_popular = crosstab.loc[category, 0] if 0 in crosstab.columns else 0\n",
        "\n",
        "        others_popular = crosstab[1].sum() - category_popular if 1 in crosstab.columns else 0\n",
        "        others_not_popular = crosstab[0].sum() - category_not_popular if 0 in crosstab.columns else 0\n",
        "\n",
        "        if category_not_popular > 0 and others_not_popular > 0:\n",
        "            odds_ratio = (category_popular / category_not_popular) / (others_popular / others_not_popular)\n",
        "            odds_ratios[category] = odds_ratio\n",
        "\n",
        "    return odds_ratios"
      ],
      "metadata": {
        "id": "2v8i0kkM06KB"
      },
      "execution_count": 53,
      "outputs": []
    },
    {
      "cell_type": "code",
      "source": [
        "print(\"\\nCONTENT TYPE ODDS RATIOS:\")\n",
        "print(\"-\" * 50)\n",
        "type_odds = calculate_odds_ratio(df, 'type', 'is_popular')\n",
        "for content_type, ratio in sorted(type_odds.items(), key=lambda x: x[1], reverse=True):\n",
        "    interpretation = \"More likely\" if ratio > 1 else \"Less likely\"\n",
        "    print(f\"{content_type:<10}: {ratio:.3f} ({interpretation} to be popular)\")"
      ],
      "metadata": {
        "colab": {
          "base_uri": "https://localhost:8080/"
        },
        "id": "NaTqThl509uY",
        "outputId": "b326abbf-2817-4395-e82f-ee1a7b1c2ef5"
      },
      "execution_count": 54,
      "outputs": [
        {
          "output_type": "stream",
          "name": "stdout",
          "text": [
            "\n",
            "CONTENT TYPE ODDS RATIOS:\n",
            "--------------------------------------------------\n",
            "Movie     : 1.075 (More likely to be popular)\n",
            "TV Show   : 0.931 (Less likely to be popular)\n"
          ]
        }
      ]
    },
    {
      "cell_type": "code",
      "source": [
        "print(\"\\nGENRE ODDS RATIOS:\")\n",
        "print(\"-\" * 50)\n",
        "genre_odds = calculate_odds_ratio(df, 'listed_in', 'is_popular')\n",
        "for genre, ratio in sorted(genre_odds.items(), key=lambda x: x[1], reverse=True)[:5]:\n",
        "    interpretation = \"More likely\" if ratio > 1 else \"Less likely\"\n",
        "    print(f\"{genre:<12}: {ratio:.3f} ({interpretation} to be popular)\")"
      ],
      "metadata": {
        "colab": {
          "base_uri": "https://localhost:8080/"
        },
        "id": "1QuOvVX51BVN",
        "outputId": "b1cee95d-869d-4f11-d02f-77f03e2d906c"
      },
      "execution_count": 55,
      "outputs": [
        {
          "output_type": "stream",
          "name": "stdout",
          "text": [
            "\n",
            "GENRE ODDS RATIOS:\n",
            "--------------------------------------------------\n",
            "Animation   : 1.102 (More likely to be popular)\n",
            "Sci-Fi      : 1.101 (More likely to be popular)\n",
            "Drama       : 1.069 (More likely to be popular)\n",
            "Horror      : 1.006 (More likely to be popular)\n",
            "Comedy      : 0.990 (Less likely to be popular)\n"
          ]
        }
      ]
    },
    {
      "cell_type": "code",
      "source": [
        "print(\"\\nRATING ODDS RATIOS (Top 5):\")\n",
        "print(\"-\" * 50)\n",
        "rating_odds = calculate_odds_ratio(df, 'rating', 'is_popular')\n",
        "for rating, ratio in sorted(rating_odds.items(), key=lambda x: x[1], reverse=True)[:5]:\n",
        "    interpretation = \"More likely\" if ratio > 1 else \"Less likely\"\n",
        "    print(f\"{rating:<6}: {ratio:.3f} ({interpretation} to be popular)\")"
      ],
      "metadata": {
        "colab": {
          "base_uri": "https://localhost:8080/"
        },
        "id": "WHmEkGtM1ZOq",
        "outputId": "faea0cb9-7248-4ebb-d3a1-b46afa33b535"
      },
      "execution_count": 56,
      "outputs": [
        {
          "output_type": "stream",
          "name": "stdout",
          "text": [
            "\n",
            "RATING ODDS RATIOS (Top 5):\n",
            "--------------------------------------------------\n",
            "PG-13 : 1.109 (More likely to be popular)\n",
            "R     : 1.102 (More likely to be popular)\n",
            "TV-G  : 1.087 (More likely to be popular)\n",
            "TV-Y7 : 1.077 (More likely to be popular)\n",
            "NC-17 : 1.058 (More likely to be popular)\n"
          ]
        }
      ]
    },
    {
      "cell_type": "code",
      "source": [
        "print(\"\\n\" + \"=\" * 60)\n",
        "print(\"PROBABILITY DISTRIBUTION ANALYSIS\")\n",
        "print(\"=\" * 60)"
      ],
      "metadata": {
        "colab": {
          "base_uri": "https://localhost:8080/"
        },
        "id": "DPoOf9pa1dMk",
        "outputId": "b3ac276f-4f4c-4540-e81f-f3a3d22e356e"
      },
      "execution_count": 57,
      "outputs": [
        {
          "output_type": "stream",
          "name": "stdout",
          "text": [
            "\n",
            "============================================================\n",
            "PROBABILITY DISTRIBUTION ANALYSIS\n",
            "============================================================\n"
          ]
        }
      ]
    },
    {
      "cell_type": "code",
      "source": [
        "print(\"\\nPOPULARITY PROBABILITY BY CONTENT TYPE:\")\n",
        "print(\"-\" * 50)\n",
        "type_prob = df.groupby('type')['is_popular'].agg(['count', 'sum', 'mean'])\n",
        "type_prob.columns = ['Total_Count', 'Popular_Count', 'Popularity_Rate']\n",
        "for content_type, data in type_prob.iterrows():\n",
        "    print(f\"{content_type:<10}: {data['Popular_Count']:,}/{data['Total_Count']:,} = {data['Popularity_Rate']:.1%}\")"
      ],
      "metadata": {
        "colab": {
          "base_uri": "https://localhost:8080/"
        },
        "id": "GWp9amK21gO0",
        "outputId": "df2237d5-c5c3-48c9-b34b-ca6b3f484d86"
      },
      "execution_count": 58,
      "outputs": [
        {
          "output_type": "stream",
          "name": "stdout",
          "text": [
            "\n",
            "POPULARITY PROBABILITY BY CONTENT TYPE:\n",
            "--------------------------------------------------\n",
            "Movie     : 2,102.0/6,928.0 = 30.3%\n",
            "TV Show   : 886.0/3,072.0 = 28.8%\n"
          ]
        }
      ]
    },
    {
      "cell_type": "code",
      "source": [
        "print(\"\\nPOPULARITY PROBABILITY BY GENRE:\")\n",
        "print(\"-\" * 50)\n",
        "genre_prob = df.groupby('listed_in')['is_popular'].agg(['count', 'sum', 'mean'])\n",
        "genre_prob.columns = ['Total_Count', 'Popular_Count', 'Popularity_Rate']\n",
        "genre_prob = genre_prob.sort_values('Popularity_Rate', ascending=False)\n",
        "for genre, data in genre_prob.iterrows():\n",
        "    print(f\"{genre:<12}: {data['Popular_Count']:,}/{data['Total_Count']:,} = {data['Popularity_Rate']:.1%}\")"
      ],
      "metadata": {
        "colab": {
          "base_uri": "https://localhost:8080/"
        },
        "id": "NLfoNCS_1lCy",
        "outputId": "8d28397f-1898-4ebc-c17a-d99e7d2649b5"
      },
      "execution_count": 59,
      "outputs": [
        {
          "output_type": "stream",
          "name": "stdout",
          "text": [
            "\n",
            "POPULARITY PROBABILITY BY GENRE:\n",
            "--------------------------------------------------\n",
            "Animation   : 363.0/1,145.0 = 31.7%\n",
            "Sci-Fi      : 355.0/1,120.0 = 31.7%\n",
            "Drama       : 323.0/1,037.0 = 31.1%\n",
            "Horror      : 347.0/1,157.0 = 30.0%\n",
            "Comedy      : 329.0/1,108.0 = 29.7%\n",
            "Thriller    : 339.0/1,145.0 = 29.6%\n",
            "Romance     : 319.0/1,097.0 = 29.1%\n",
            "Action      : 301.0/1,073.0 = 28.1%\n",
            "Documentary : 312.0/1,118.0 = 27.9%\n"
          ]
        }
      ]
    },
    {
      "cell_type": "code",
      "source": [
        "print(\"\\nPOPULARITY PROBABILITY BY RATING (Top 5):\")\n",
        "print(\"-\" * 50)\n",
        "rating_prob = df.groupby('rating')['is_popular'].agg(['count', 'sum', 'mean'])\n",
        "rating_prob.columns = ['Total_Count', 'Popular_Count', 'Popularity_Rate']\n",
        "rating_prob = rating_prob.sort_values('Popularity_Rate', ascending=False)\n",
        "for rating, data in rating_prob.head().iterrows():\n",
        "    print(f\"{rating:<6}: {data['Popular_Count']:,}/{data['Total_Count']:,} = {data['Popularity_Rate']:.1%}\")"
      ],
      "metadata": {
        "colab": {
          "base_uri": "https://localhost:8080/"
        },
        "id": "1pkUB64y1qpU",
        "outputId": "c235c580-7327-4bcd-d142-103b63f851a8"
      },
      "execution_count": 60,
      "outputs": [
        {
          "output_type": "stream",
          "name": "stdout",
          "text": [
            "\n",
            "POPULARITY PROBABILITY BY RATING (Top 5):\n",
            "--------------------------------------------------\n",
            "PG-13 : 294.0/922.0 = 31.9%\n",
            "R     : 277.0/872.0 = 31.8%\n",
            "TV-G  : 286.0/908.0 = 31.5%\n",
            "TV-Y7 : 289.0/923.0 = 31.3%\n",
            "NC-17 : 287.0/927.0 = 31.0%\n"
          ]
        }
      ]
    },
    {
      "cell_type": "code",
      "source": [
        "print(\"\\n\" + \"=\" * 60)\n",
        "print(\"SAMPLE PREDICTIONS\")\n",
        "print(\"=\" * 60)"
      ],
      "metadata": {
        "colab": {
          "base_uri": "https://localhost:8080/"
        },
        "id": "lKJ800or1tz-",
        "outputId": "4f080e01-76af-494a-806b-ed18567b45ff"
      },
      "execution_count": 62,
      "outputs": [
        {
          "output_type": "stream",
          "name": "stdout",
          "text": [
            "\n",
            "============================================================\n",
            "SAMPLE PREDICTIONS\n",
            "============================================================\n"
          ]
        }
      ]
    },
    {
      "cell_type": "code",
      "source": [
        "sample_indices = np.random.choice(X_test.index, 5, replace=False)\n",
        "sample_data = X_test.loc[sample_indices]\n",
        "sample_predictions = best_model.predict(sample_data)\n",
        "sample_probabilities = best_model.predict_proba(sample_data)[:, 1]"
      ],
      "metadata": {
        "id": "yHbZfEx41wLj"
      },
      "execution_count": 63,
      "outputs": []
    },
    {
      "cell_type": "code",
      "source": [
        "print(\"\\nPREDICTION EXAMPLES:\")\n",
        "print(\"-\" * 70)\n",
        "for i, idx in enumerate(sample_indices):\n",
        "    original_data = df.loc[idx]\n",
        "    prediction = \"POPULAR\" if sample_predictions[i] else \"NOT POPULAR\"\n",
        "    confidence = sample_probabilities[i] * 100\n",
        "\n",
        "    print(f\"\\n{original_data['title']}\")\n",
        "    print(f\"   Type: {original_data['type']:<8} | Genre: {original_data['listed_in']:<12}\")\n",
        "    print(f\"   Country: {original_data['country']:<15} | Rating: {original_data['rating']:<6}\")\n",
        "    print(f\"   IMDB Score: {original_data['imdb_score']:.1f} | Year: {original_data['release_year']}\")\n",
        "    print(f\"   PREDICTION: {prediction} (Confidence: {confidence:.1f}%)\")"
      ],
      "metadata": {
        "colab": {
          "base_uri": "https://localhost:8080/"
        },
        "id": "mCWA1w4o10pK",
        "outputId": "d9f76edc-cb2e-4ed4-fc1f-2433a0636702"
      },
      "execution_count": 64,
      "outputs": [
        {
          "output_type": "stream",
          "name": "stdout",
          "text": [
            "\n",
            "PREDICTION EXAMPLES:\n",
            "----------------------------------------------------------------------\n",
            "\n",
            "Title_4165\n",
            "   Type: Movie    | Genre: Thriller    \n",
            "   Country: United States   | Rating: TV-PG \n",
            "   IMDB Score: 9.2 | Year: 2007\n",
            "   PREDICTION: POPULAR (Confidence: 100.0%)\n",
            "\n",
            "Title_3851\n",
            "   Type: Movie    | Genre: Documentary \n",
            "   Country: United States   | Rating: R     \n",
            "   IMDB Score: 6.4 | Year: 2015\n",
            "   PREDICTION: POPULAR (Confidence: 100.0%)\n",
            "\n",
            "Title_3959\n",
            "   Type: Movie    | Genre: Documentary \n",
            "   Country: India           | Rating: TV-MA \n",
            "   IMDB Score: 5.0 | Year: 2008\n",
            "   PREDICTION: POPULAR (Confidence: 100.0%)\n",
            "\n",
            "Title_8237\n",
            "   Type: Movie    | Genre: Romance     \n",
            "   Country: United States   | Rating: PG-13 \n",
            "   IMDB Score: 7.7 | Year: 1992\n",
            "   PREDICTION: POPULAR (Confidence: 100.0%)\n",
            "\n",
            "Title_7895\n",
            "   Type: Movie    | Genre: Drama       \n",
            "   Country: United States   | Rating: PG    \n",
            "   IMDB Score: 4.4 | Year: 1996\n",
            "   PREDICTION: POPULAR (Confidence: 100.0%)\n"
          ]
        }
      ]
    },
    {
      "cell_type": "code",
      "source": [
        "print(\"\\n\" + \"=\" * 60)\n",
        "print(\"KEY BUSINESS INSIGHTS\")\n",
        "print(\"=\" * 60)"
      ],
      "metadata": {
        "colab": {
          "base_uri": "https://localhost:8080/"
        },
        "id": "UEyMFAOX2L7S",
        "outputId": "114c4232-6727-4c46-b9a3-e25a54299ee8"
      },
      "execution_count": 65,
      "outputs": [
        {
          "output_type": "stream",
          "name": "stdout",
          "text": [
            "\n",
            "============================================================\n",
            "KEY BUSINESS INSIGHTS\n",
            "============================================================\n"
          ]
        }
      ]
    },
    {
      "cell_type": "code",
      "source": [
        "movie_pct = (df['type'] == 'Movie').mean() * 100\n",
        "top_genre = genre_prob.index[0]\n",
        "top_genre_rate = genre_prob.iloc[0]['Popularity_Rate'] * 100"
      ],
      "metadata": {
        "id": "CgSNXJNe2Q_h"
      },
      "execution_count": 66,
      "outputs": []
    },
    {
      "cell_type": "code",
      "source": [
        "print(f\"\\nCONTENT STRATEGY RECOMMENDATIONS:\")\n",
        "print(f\"   - Movies represent {movie_pct:.1f}% of total content\")\n",
        "print(f\"   - Most successful genre: {top_genre} ({top_genre_rate:.1f}% success rate)\")\n",
        "print(f\"   - Focus on {top_genre.lower()} content for higher engagement\")"
      ],
      "metadata": {
        "colab": {
          "base_uri": "https://localhost:8080/"
        },
        "id": "qossvewL2TLY",
        "outputId": "cb161f18-46b8-441a-9179-aadb91d6058a"
      },
      "execution_count": 68,
      "outputs": [
        {
          "output_type": "stream",
          "name": "stdout",
          "text": [
            "\n",
            "CONTENT STRATEGY RECOMMENDATIONS:\n",
            "   - Movies represent 69.3% of total content\n",
            "   - Most successful genre: Animation (31.7% success rate)\n",
            "   - Focus on animation content for higher engagement\n"
          ]
        }
      ]
    },
    {
      "cell_type": "code",
      "source": [
        "country_popularity = df.groupby('country')['is_popular'].mean().sort_values(ascending=False)\n",
        "top_country = country_popularity.index[0]\n",
        "top_country_rate = country_popularity.iloc[0] * 100"
      ],
      "metadata": {
        "id": "zbNdNnSq2WlK"
      },
      "execution_count": 69,
      "outputs": []
    },
    {
      "cell_type": "code",
      "source": [
        "print(f\"\\nREGIONAL PERFORMANCE:\")\n",
        "print(f\"   - Best performing region: {top_country} ({top_country_rate:.1f}% success rate)\")\n",
        "print(f\"   - Consider expanding {top_country.lower()} content production\")"
      ],
      "metadata": {
        "colab": {
          "base_uri": "https://localhost:8080/"
        },
        "id": "cGkr_UVZ2kvi",
        "outputId": "f194f5a3-1375-47c8-c2f6-6aefc8b7d087"
      },
      "execution_count": 70,
      "outputs": [
        {
          "output_type": "stream",
          "name": "stdout",
          "text": [
            "\n",
            "REGIONAL PERFORMANCE:\n",
            "   - Best performing region: Italy (32.8% success rate)\n",
            "   - Consider expanding italy content production\n"
          ]
        }
      ]
    },
    {
      "cell_type": "code",
      "source": [
        "top_rating = rating_prob.index[0]\n",
        "top_rating_rate = rating_prob.iloc[0]['Popularity_Rate'] * 100"
      ],
      "metadata": {
        "id": "p596yrW42oaK"
      },
      "execution_count": 71,
      "outputs": []
    },
    {
      "cell_type": "code",
      "source": [
        "print(f\"\\nCONTENT RATING STRATEGY:\")\n",
        "print(f\"   - Most successful rating: {top_rating} ({top_rating_rate:.1f}% success rate)\")\n",
        "print(f\"   - Target {top_rating} rated content for broader appeal\")"
      ],
      "metadata": {
        "colab": {
          "base_uri": "https://localhost:8080/"
        },
        "id": "uDlQQXzk2rCH",
        "outputId": "e92f349b-cce2-4961-b036-66df1cc8ff0e"
      },
      "execution_count": 72,
      "outputs": [
        {
          "output_type": "stream",
          "name": "stdout",
          "text": [
            "\n",
            "CONTENT RATING STRATEGY:\n",
            "   - Most successful rating: PG-13 (31.9% success rate)\n",
            "   - Target PG-13 rated content for broader appeal\n"
          ]
        }
      ]
    },
    {
      "cell_type": "code",
      "source": [
        "top_feature = feature_importance.iloc[0]\n",
        "top_feature_name = top_feature['feature'].replace('_encoded', '').replace('_', ' ').title()"
      ],
      "metadata": {
        "id": "zOpqG1OS2vJP"
      },
      "execution_count": 73,
      "outputs": []
    },
    {
      "cell_type": "code",
      "source": [
        "print(f\"\\nPREDICTIVE INSIGHTS:\")\n",
        "print(f\"   - Most predictive factor: {top_feature_name}\")\n",
        "print(f\"   - Importance score: {top_feature['importance']:.3f}\")\n",
        "print(f\"   - Focus on optimizing {top_feature_name.lower()} for success prediction\")"
      ],
      "metadata": {
        "colab": {
          "base_uri": "https://localhost:8080/"
        },
        "id": "i5R8Mjwt2xqx",
        "outputId": "fa05244f-ce9f-44d0-ca9c-d84556fabe11"
      },
      "execution_count": 74,
      "outputs": [
        {
          "output_type": "stream",
          "name": "stdout",
          "text": [
            "\n",
            "PREDICTIVE INSIGHTS:\n",
            "   - Most predictive factor: User Rating\n",
            "   - Importance score: 0.144\n",
            "   - Focus on optimizing user rating for success prediction\n"
          ]
        }
      ]
    },
    {
      "cell_type": "code",
      "source": [
        "print(f\"\\nMODEL PERFORMANCE SUMMARY:\")\n",
        "print(f\"   - Best model: {best_name}\")\n",
        "print(f\"   - Accuracy: {max(rf_accuracy, lr_accuracy):.1%}\")\n",
        "print(f\"   - Model can predict content popularity with {max(rf_accuracy, lr_accuracy):.1%} accuracy\")"
      ],
      "metadata": {
        "colab": {
          "base_uri": "https://localhost:8080/"
        },
        "id": "qNiAuge222ZS",
        "outputId": "af9c4009-ed52-41bf-cdfd-469693f2e3c3"
      },
      "execution_count": 75,
      "outputs": [
        {
          "output_type": "stream",
          "name": "stdout",
          "text": [
            "\n",
            "MODEL PERFORMANCE SUMMARY:\n",
            "   - Best model: Logistic Regression\n",
            "   - Accuracy: 70.1%\n",
            "   - Model can predict content popularity with 70.1% accuracy\n"
          ]
        }
      ]
    },
    {
      "cell_type": "code",
      "source": [
        "print(\"\\n\" + \"=\" * 60)\n",
        "print(\"ANALYSIS COMPLETED SUCCESSFULLY!\")\n",
        "print(\"=\" * 60)"
      ],
      "metadata": {
        "colab": {
          "base_uri": "https://localhost:8080/"
        },
        "id": "0YyAyMo028tg",
        "outputId": "7ce917a6-45f6-4deb-a172-0bfb5586e799"
      },
      "execution_count": 76,
      "outputs": [
        {
          "output_type": "stream",
          "name": "stdout",
          "text": [
            "\n",
            "============================================================\n",
            "ANALYSIS COMPLETED SUCCESSFULLY!\n",
            "============================================================\n"
          ]
        }
      ]
    },
    {
      "cell_type": "code",
      "source": [
        "import matplotlib;\n",
        "print(f\"\\nOUTPUT FILES GENERATED:\")\n",
        "print(f\"   - netflix_popularity_model.pkl (Trained ML model)\")\n",
        "print(f\"   - feature_scaler.pkl (Data preprocessing scaler)\")\n",
        "print(f\"   - feature_importance.csv (Feature importance rankings)\")\n",
        "print(f\"   - genre_popularity_analysis.csv (Genre performance data)\")\n",
        "print(f\"   - rating_popularity_analysis.csv (Rating performance data)\")"
      ],
      "metadata": {
        "colab": {
          "base_uri": "https://localhost:8080/"
        },
        "id": "f1plCcPP3Ab1",
        "outputId": "f7636e81-150f-4539-8061-d4454fd1332c"
      },
      "execution_count": 95,
      "outputs": [
        {
          "output_type": "stream",
          "name": "stdout",
          "text": [
            "\n",
            "OUTPUT FILES GENERATED:\n",
            "   - netflix_popularity_model.pkl (Trained ML model)\n",
            "   - feature_scaler.pkl (Data preprocessing scaler)\n",
            "   - feature_importance.csv (Feature importance rankings)\n",
            "   - genre_popularity_analysis.csv (Genre performance data)\n",
            "   - rating_popularity_analysis.csv (Rating performance data)\n"
          ]
        }
      ]
    },
    {
      "cell_type": "code",
      "source": [
        "def create_main_dashboard():\n",
        "    fig, axes = plt.subplots(2, 3, figsize=(18, 12))\n",
        "    fig.suptitle('Netflix Content Analysis Dashboard', fontsize=16, fontweight='bold')\n",
        "\n",
        "    type_counts = df['type'].value_counts()\n",
        "    axes[0,0].pie(type_counts.values, labels=type_counts.index, autopct='%1.1f%%', startangle=90)\n",
        "    axes[0,0].set_title('Content Type Distribution')\n",
        "\n",
        "    top_countries = df['country'].value_counts().head(10)\n",
        "    bars = axes[0,1].bar(range(len(top_countries)), top_countries.values)\n",
        "    axes[0,1].set_title('Top 10 Countries by Content')\n",
        "    axes[0,1].set_xticks(range(len(top_countries)))\n",
        "    axes[0,1].set_xticklabels(top_countries.index, rotation=45, ha='right')\n",
        "\n",
        "    for i, bar in enumerate(bars):\n",
        "        height = bar.get_height()\n",
        "        axes[0,1].text(bar.get_x() + bar.get_width()/2., height,\n",
        "                      f'{int(height)}', ha='center', va='bottom')\n",
        "\n",
        "    yearly_content = df.groupby('release_year').size()\n",
        "    axes[0,2].plot(yearly_content.index, yearly_content.values, marker='o', linewidth=2)\n",
        "    axes[0,2].set_title('Content Released by Year')\n",
        "    axes[0,2].set_xlabel('Release Year')\n",
        "    axes[0,2].set_ylabel('Number of Titles')\n",
        "    axes[0,2].grid(True, alpha=0.3)\n",
        "\n",
        "    rating_counts = df['rating'].value_counts()\n",
        "    bars = axes[1,0].bar(range(len(rating_counts)), rating_counts.values)\n",
        "    axes[1,0].set_title('Content Rating Distribution')\n",
        "    axes[1,0].set_xticks(range(len(rating_counts)))\n",
        "    axes[1,0].set_xticklabels(rating_counts.index, rotation=45, ha='right')\n",
        "\n",
        "    genre_counts = df['listed_in'].value_counts()\n",
        "    bars = axes[1,1].bar(range(len(genre_counts)), genre_counts.values, color='skyblue')\n",
        "    axes[1,1].set_title('Genre Distribution')\n",
        "    axes[1,1].set_xticks(range(len(genre_counts)))\n",
        "    axes[1,1].set_xticklabels(genre_counts.index, rotation=45, ha='right')\n",
        "\n",
        "    axes[1,2].hist(df['imdb_score'], bins=30, color='lightgreen', edgecolor='black', alpha=0.7)\n",
        "    axes[1,2].set_title('IMDB Score Distribution')\n",
        "    axes[1,2].set_xlabel('IMDB Score')\n",
        "    axes[1,2].set_ylabel('Frequency')\n",
        "    axes[1,2].axvline(df['imdb_score'].mean(), color='red', linestyle='--',\n",
        "                     label=f'Mean: {df[\"imdb_score\"].mean():.2f}')\n",
        "    axes[1,2].legend()\n",
        "\n",
        "    plt.tight_layout()\n",
        "    return fig"
      ],
      "metadata": {
        "id": "W9wRrnlY5oit"
      },
      "execution_count": 110,
      "outputs": []
    },
    {
      "cell_type": "code",
      "source": [
        "dashboard_fig = create_and_show_plot(create_main_dashboard, \"Main Dashboard\", \"netflix_dashboard\")"
      ],
      "metadata": {
        "colab": {
          "base_uri": "https://localhost:8080/",
          "height": 987
        },
        "id": "dzNHPwgJ6yak",
        "outputId": "c2226af4-71ee-41b7-98a5-b30259503699"
      },
      "execution_count": 111,
      "outputs": [
        {
          "output_type": "display_data",
          "data": {
            "text/plain": [
              "<Figure size 1800x1200 with 6 Axes>"
            ],
            "image/png": "[encoded data removed]"
          },
          "metadata": {}
        },
        {
          "output_type": "stream",
          "name": "stdout",
          "text": [
            "✅ Plot saved as netflix_dashboard.png\n"
          ]
        },
        {
          "output_type": "display_data",
          "data": {
            "text/plain": [
              "<Figure size 640x480 with 0 Axes>"
            ]
          },
          "metadata": {}
        }
      ]
    },
    {
      "cell_type": "code",
      "source": [
        "print(\"\\nVisualization dashboard created showing:\")\n",
        "print(\"   1. Content type distribution (pie chart)\")\n",
        "print(\"   2. Top performing genres (bar chart)\")\n",
        "print(\"   3. Most important features (horizontal bar chart)\")\n",
        "print(\"   4. Model performance comparison (bar chart)\")"
      ],
      "metadata": {
        "colab": {
          "base_uri": "https://localhost:8080/"
        },
        "id": "glV5QFNT61YM",
        "outputId": "10ec6cc0-3987-41e6-d220-aa02f3a458c2"
      },
      "execution_count": 112,
      "outputs": [
        {
          "output_type": "stream",
          "name": "stdout",
          "text": [
            "\n",
            "Visualization dashboard created showing:\n",
            "   1. Content type distribution (pie chart)\n",
            "   2. Top performing genres (bar chart)\n",
            "   3. Most important features (horizontal bar chart)\n",
            "   4. Model performance comparison (bar chart)\n"
          ]
        }
      ]
    },
    {
      "cell_type": "code",
      "source": [],
      "metadata": {
        "id": "iw4q6GaY668g"
      },
      "execution_count": null,
      "outputs": []
    }
  ]
}